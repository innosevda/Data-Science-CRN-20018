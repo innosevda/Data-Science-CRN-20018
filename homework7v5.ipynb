{
  "nbformat": 4,
  "nbformat_minor": 0,
  "metadata": {
    "colab": {
      "provenance": [],
      "include_colab_link": true
    },
    "kernelspec": {
      "name": "python3",
      "display_name": "Python 3"
    },
    "language_info": {
      "name": "python"
    }
  },
  "cells": [
    {
      "cell_type": "markdown",
      "metadata": {
        "id": "view-in-github",
        "colab_type": "text"
      },
      "source": [
        "<a href=\"https://colab.research.google.com/github/innosevda/Data-Science-CRN-20018/blob/main/homework7v5.ipynb\" target=\"_parent\"><img src=\"https://colab.research.google.com/assets/colab-badge.svg\" alt=\"Open In Colab\"/></a>"
      ]
    },
    {
      "cell_type": "markdown",
      "source": [
        "The definition of the variables used in the Bookbinder dataset is given below. Use choice variable as dependent variable.\n",
        "\n",
        "Choice: Whether the customer purchased the The Art History of Florence. 1 corresponds to a purchase and 0 corresponds to a nonpurchase.\n",
        "\n",
        "Gender: 0 = Female and 1 = Male.\n",
        "\n",
        "Amount purchased: Total money spent on BBBC books.\n",
        "\n",
        "Frequency: Total number of purchases in the chosen period (used as a proxy for frequency.)\n",
        "\n",
        "Last purchase (recency of purchase): Months since last purchase.\n",
        "\n",
        "First purchase: Months since first purchase.\n",
        "\n",
        "P_Child: Number of children’s books purchased.\n",
        "\n",
        "P_Youth: Number of youth books purchased.\n",
        "\n",
        "P_Cook: Number of cookbooks purchased.\n",
        "\n",
        "P_DIY: Number of do-it-yourself books purchased.\n",
        "\n",
        "P_Art: Number of art books purchased.\n"
      ],
      "metadata": {
        "id": "rUKWvzpn0_JM"
      }
    },
    {
      "cell_type": "code",
      "execution_count": 12,
      "metadata": {
        "colab": {
          "base_uri": "https://localhost:8080/",
          "height": 206
        },
        "id": "y7I9-MrHKycL",
        "outputId": "fb5d5ddd-6e19-4207-dacb-5965339ab120"
      },
      "outputs": [
        {
          "output_type": "execute_result",
          "data": {
            "text/plain": [
              "   Gender  Amount purchased  Frequency  Last purchase  First purchase  \\\n",
              "0       1               113          8              1               8   \n",
              "1       1               418          6             11              66   \n",
              "2       1               336         18              6              32   \n",
              "3       1               180         16              5              42   \n",
              "4       0               320          2              3              18   \n",
              "\n",
              "   P_Child  P_Youth  P_Cook  P_DIY  P_Art     Staus Choice  \n",
              "0        0        1       0      0      0  Training      Y  \n",
              "1        0        2       3      2      3  Training      Y  \n",
              "2        2        0       1      1      2  Training      Y  \n",
              "3        2        0       0      1      1  Training      Y  \n",
              "4        0        0       0      1      2  Training      Y  "
            ],
            "text/html": [
              "\n",
              "  <div id=\"df-24cc4a91-b86a-4615-adbf-a55c8993f18d\" class=\"colab-df-container\">\n",
              "    <div>\n",
              "<style scoped>\n",
              "    .dataframe tbody tr th:only-of-type {\n",
              "        vertical-align: middle;\n",
              "    }\n",
              "\n",
              "    .dataframe tbody tr th {\n",
              "        vertical-align: top;\n",
              "    }\n",
              "\n",
              "    .dataframe thead th {\n",
              "        text-align: right;\n",
              "    }\n",
              "</style>\n",
              "<table border=\"1\" class=\"dataframe\">\n",
              "  <thead>\n",
              "    <tr style=\"text-align: right;\">\n",
              "      <th></th>\n",
              "      <th>Gender</th>\n",
              "      <th>Amount purchased</th>\n",
              "      <th>Frequency</th>\n",
              "      <th>Last purchase</th>\n",
              "      <th>First purchase</th>\n",
              "      <th>P_Child</th>\n",
              "      <th>P_Youth</th>\n",
              "      <th>P_Cook</th>\n",
              "      <th>P_DIY</th>\n",
              "      <th>P_Art</th>\n",
              "      <th>Staus</th>\n",
              "      <th>Choice</th>\n",
              "    </tr>\n",
              "  </thead>\n",
              "  <tbody>\n",
              "    <tr>\n",
              "      <th>0</th>\n",
              "      <td>1</td>\n",
              "      <td>113</td>\n",
              "      <td>8</td>\n",
              "      <td>1</td>\n",
              "      <td>8</td>\n",
              "      <td>0</td>\n",
              "      <td>1</td>\n",
              "      <td>0</td>\n",
              "      <td>0</td>\n",
              "      <td>0</td>\n",
              "      <td>Training</td>\n",
              "      <td>Y</td>\n",
              "    </tr>\n",
              "    <tr>\n",
              "      <th>1</th>\n",
              "      <td>1</td>\n",
              "      <td>418</td>\n",
              "      <td>6</td>\n",
              "      <td>11</td>\n",
              "      <td>66</td>\n",
              "      <td>0</td>\n",
              "      <td>2</td>\n",
              "      <td>3</td>\n",
              "      <td>2</td>\n",
              "      <td>3</td>\n",
              "      <td>Training</td>\n",
              "      <td>Y</td>\n",
              "    </tr>\n",
              "    <tr>\n",
              "      <th>2</th>\n",
              "      <td>1</td>\n",
              "      <td>336</td>\n",
              "      <td>18</td>\n",
              "      <td>6</td>\n",
              "      <td>32</td>\n",
              "      <td>2</td>\n",
              "      <td>0</td>\n",
              "      <td>1</td>\n",
              "      <td>1</td>\n",
              "      <td>2</td>\n",
              "      <td>Training</td>\n",
              "      <td>Y</td>\n",
              "    </tr>\n",
              "    <tr>\n",
              "      <th>3</th>\n",
              "      <td>1</td>\n",
              "      <td>180</td>\n",
              "      <td>16</td>\n",
              "      <td>5</td>\n",
              "      <td>42</td>\n",
              "      <td>2</td>\n",
              "      <td>0</td>\n",
              "      <td>0</td>\n",
              "      <td>1</td>\n",
              "      <td>1</td>\n",
              "      <td>Training</td>\n",
              "      <td>Y</td>\n",
              "    </tr>\n",
              "    <tr>\n",
              "      <th>4</th>\n",
              "      <td>0</td>\n",
              "      <td>320</td>\n",
              "      <td>2</td>\n",
              "      <td>3</td>\n",
              "      <td>18</td>\n",
              "      <td>0</td>\n",
              "      <td>0</td>\n",
              "      <td>0</td>\n",
              "      <td>1</td>\n",
              "      <td>2</td>\n",
              "      <td>Training</td>\n",
              "      <td>Y</td>\n",
              "    </tr>\n",
              "  </tbody>\n",
              "</table>\n",
              "</div>\n",
              "    <div class=\"colab-df-buttons\">\n",
              "\n",
              "  <div class=\"colab-df-container\">\n",
              "    <button class=\"colab-df-convert\" onclick=\"convertToInteractive('df-24cc4a91-b86a-4615-adbf-a55c8993f18d')\"\n",
              "            title=\"Convert this dataframe to an interactive table.\"\n",
              "            style=\"display:none;\">\n",
              "\n",
              "  <svg xmlns=\"http://www.w3.org/2000/svg\" height=\"24px\" viewBox=\"0 -960 960 960\">\n",
              "    <path d=\"M120-120v-720h720v720H120Zm60-500h600v-160H180v160Zm220 220h160v-160H400v160Zm0 220h160v-160H400v160ZM180-400h160v-160H180v160Zm440 0h160v-160H620v160ZM180-180h160v-160H180v160Zm440 0h160v-160H620v160Z\"/>\n",
              "  </svg>\n",
              "    </button>\n",
              "\n",
              "  <style>\n",
              "    .colab-df-container {\n",
              "      display:flex;\n",
              "      gap: 12px;\n",
              "    }\n",
              "\n",
              "    .colab-df-convert {\n",
              "      background-color: #E8F0FE;\n",
              "      border: none;\n",
              "      border-radius: 50%;\n",
              "      cursor: pointer;\n",
              "      display: none;\n",
              "      fill: #1967D2;\n",
              "      height: 32px;\n",
              "      padding: 0 0 0 0;\n",
              "      width: 32px;\n",
              "    }\n",
              "\n",
              "    .colab-df-convert:hover {\n",
              "      background-color: #E2EBFA;\n",
              "      box-shadow: 0px 1px 2px rgba(60, 64, 67, 0.3), 0px 1px 3px 1px rgba(60, 64, 67, 0.15);\n",
              "      fill: #174EA6;\n",
              "    }\n",
              "\n",
              "    .colab-df-buttons div {\n",
              "      margin-bottom: 4px;\n",
              "    }\n",
              "\n",
              "    [theme=dark] .colab-df-convert {\n",
              "      background-color: #3B4455;\n",
              "      fill: #D2E3FC;\n",
              "    }\n",
              "\n",
              "    [theme=dark] .colab-df-convert:hover {\n",
              "      background-color: #434B5C;\n",
              "      box-shadow: 0px 1px 3px 1px rgba(0, 0, 0, 0.15);\n",
              "      filter: drop-shadow(0px 1px 2px rgba(0, 0, 0, 0.3));\n",
              "      fill: #FFFFFF;\n",
              "    }\n",
              "  </style>\n",
              "\n",
              "    <script>\n",
              "      const buttonEl =\n",
              "        document.querySelector('#df-24cc4a91-b86a-4615-adbf-a55c8993f18d button.colab-df-convert');\n",
              "      buttonEl.style.display =\n",
              "        google.colab.kernel.accessAllowed ? 'block' : 'none';\n",
              "\n",
              "      async function convertToInteractive(key) {\n",
              "        const element = document.querySelector('#df-24cc4a91-b86a-4615-adbf-a55c8993f18d');\n",
              "        const dataTable =\n",
              "          await google.colab.kernel.invokeFunction('convertToInteractive',\n",
              "                                                    [key], {});\n",
              "        if (!dataTable) return;\n",
              "\n",
              "        const docLinkHtml = 'Like what you see? Visit the ' +\n",
              "          '<a target=\"_blank\" href=https://colab.research.google.com/notebooks/data_table.ipynb>data table notebook</a>'\n",
              "          + ' to learn more about interactive tables.';\n",
              "        element.innerHTML = '';\n",
              "        dataTable['output_type'] = 'display_data';\n",
              "        await google.colab.output.renderOutput(dataTable, element);\n",
              "        const docLink = document.createElement('div');\n",
              "        docLink.innerHTML = docLinkHtml;\n",
              "        element.appendChild(docLink);\n",
              "      }\n",
              "    </script>\n",
              "  </div>\n",
              "\n",
              "\n",
              "<div id=\"df-eea5a04c-d89b-4209-85ee-94bdd0789839\">\n",
              "  <button class=\"colab-df-quickchart\" onclick=\"quickchart('df-eea5a04c-d89b-4209-85ee-94bdd0789839')\"\n",
              "            title=\"Suggest charts\"\n",
              "            style=\"display:none;\">\n",
              "\n",
              "<svg xmlns=\"http://www.w3.org/2000/svg\" height=\"24px\"viewBox=\"0 0 24 24\"\n",
              "     width=\"24px\">\n",
              "    <g>\n",
              "        <path d=\"M19 3H5c-1.1 0-2 .9-2 2v14c0 1.1.9 2 2 2h14c1.1 0 2-.9 2-2V5c0-1.1-.9-2-2-2zM9 17H7v-7h2v7zm4 0h-2V7h2v10zm4 0h-2v-4h2v4z\"/>\n",
              "    </g>\n",
              "</svg>\n",
              "  </button>\n",
              "\n",
              "<style>\n",
              "  .colab-df-quickchart {\n",
              "      --bg-color: #E8F0FE;\n",
              "      --fill-color: #1967D2;\n",
              "      --hover-bg-color: #E2EBFA;\n",
              "      --hover-fill-color: #174EA6;\n",
              "      --disabled-fill-color: #AAA;\n",
              "      --disabled-bg-color: #DDD;\n",
              "  }\n",
              "\n",
              "  [theme=dark] .colab-df-quickchart {\n",
              "      --bg-color: #3B4455;\n",
              "      --fill-color: #D2E3FC;\n",
              "      --hover-bg-color: #434B5C;\n",
              "      --hover-fill-color: #FFFFFF;\n",
              "      --disabled-bg-color: #3B4455;\n",
              "      --disabled-fill-color: #666;\n",
              "  }\n",
              "\n",
              "  .colab-df-quickchart {\n",
              "    background-color: var(--bg-color);\n",
              "    border: none;\n",
              "    border-radius: 50%;\n",
              "    cursor: pointer;\n",
              "    display: none;\n",
              "    fill: var(--fill-color);\n",
              "    height: 32px;\n",
              "    padding: 0;\n",
              "    width: 32px;\n",
              "  }\n",
              "\n",
              "  .colab-df-quickchart:hover {\n",
              "    background-color: var(--hover-bg-color);\n",
              "    box-shadow: 0 1px 2px rgba(60, 64, 67, 0.3), 0 1px 3px 1px rgba(60, 64, 67, 0.15);\n",
              "    fill: var(--button-hover-fill-color);\n",
              "  }\n",
              "\n",
              "  .colab-df-quickchart-complete:disabled,\n",
              "  .colab-df-quickchart-complete:disabled:hover {\n",
              "    background-color: var(--disabled-bg-color);\n",
              "    fill: var(--disabled-fill-color);\n",
              "    box-shadow: none;\n",
              "  }\n",
              "\n",
              "  .colab-df-spinner {\n",
              "    border: 2px solid var(--fill-color);\n",
              "    border-color: transparent;\n",
              "    border-bottom-color: var(--fill-color);\n",
              "    animation:\n",
              "      spin 1s steps(1) infinite;\n",
              "  }\n",
              "\n",
              "  @keyframes spin {\n",
              "    0% {\n",
              "      border-color: transparent;\n",
              "      border-bottom-color: var(--fill-color);\n",
              "      border-left-color: var(--fill-color);\n",
              "    }\n",
              "    20% {\n",
              "      border-color: transparent;\n",
              "      border-left-color: var(--fill-color);\n",
              "      border-top-color: var(--fill-color);\n",
              "    }\n",
              "    30% {\n",
              "      border-color: transparent;\n",
              "      border-left-color: var(--fill-color);\n",
              "      border-top-color: var(--fill-color);\n",
              "      border-right-color: var(--fill-color);\n",
              "    }\n",
              "    40% {\n",
              "      border-color: transparent;\n",
              "      border-right-color: var(--fill-color);\n",
              "      border-top-color: var(--fill-color);\n",
              "    }\n",
              "    60% {\n",
              "      border-color: transparent;\n",
              "      border-right-color: var(--fill-color);\n",
              "    }\n",
              "    80% {\n",
              "      border-color: transparent;\n",
              "      border-right-color: var(--fill-color);\n",
              "      border-bottom-color: var(--fill-color);\n",
              "    }\n",
              "    90% {\n",
              "      border-color: transparent;\n",
              "      border-bottom-color: var(--fill-color);\n",
              "    }\n",
              "  }\n",
              "</style>\n",
              "\n",
              "  <script>\n",
              "    async function quickchart(key) {\n",
              "      const quickchartButtonEl =\n",
              "        document.querySelector('#' + key + ' button');\n",
              "      quickchartButtonEl.disabled = true;  // To prevent multiple clicks.\n",
              "      quickchartButtonEl.classList.add('colab-df-spinner');\n",
              "      try {\n",
              "        const charts = await google.colab.kernel.invokeFunction(\n",
              "            'suggestCharts', [key], {});\n",
              "      } catch (error) {\n",
              "        console.error('Error during call to suggestCharts:', error);\n",
              "      }\n",
              "      quickchartButtonEl.classList.remove('colab-df-spinner');\n",
              "      quickchartButtonEl.classList.add('colab-df-quickchart-complete');\n",
              "    }\n",
              "    (() => {\n",
              "      let quickchartButtonEl =\n",
              "        document.querySelector('#df-eea5a04c-d89b-4209-85ee-94bdd0789839 button');\n",
              "      quickchartButtonEl.style.display =\n",
              "        google.colab.kernel.accessAllowed ? 'block' : 'none';\n",
              "    })();\n",
              "  </script>\n",
              "</div>\n",
              "\n",
              "    </div>\n",
              "  </div>\n"
            ],
            "application/vnd.google.colaboratory.intrinsic+json": {
              "type": "dataframe",
              "variable_name": "df",
              "summary": "{\n  \"name\": \"df\",\n  \"rows\": 3900,\n  \"fields\": [\n    {\n      \"column\": \"Gender\",\n      \"properties\": {\n        \"dtype\": \"number\",\n        \"std\": 0,\n        \"min\": 0,\n        \"max\": 1,\n        \"num_unique_values\": 2,\n        \"samples\": [\n          0,\n          1\n        ],\n        \"semantic_type\": \"\",\n        \"description\": \"\"\n      }\n    },\n    {\n      \"column\": \"Amount purchased\",\n      \"properties\": {\n        \"dtype\": \"number\",\n        \"std\": 95,\n        \"min\": 15,\n        \"max\": 474,\n        \"num_unique_values\": 420,\n        \"samples\": [\n          216,\n          160\n        ],\n        \"semantic_type\": \"\",\n        \"description\": \"\"\n      }\n    },\n    {\n      \"column\": \"Frequency\",\n      \"properties\": {\n        \"dtype\": \"number\",\n        \"std\": 8,\n        \"min\": 2,\n        \"max\": 36,\n        \"num_unique_values\": 18,\n        \"samples\": [\n          8,\n          6\n        ],\n        \"semantic_type\": \"\",\n        \"description\": \"\"\n      }\n    },\n    {\n      \"column\": \"Last purchase\",\n      \"properties\": {\n        \"dtype\": \"number\",\n        \"std\": 2,\n        \"min\": 1,\n        \"max\": 12,\n        \"num_unique_values\": 12,\n        \"samples\": [\n          10,\n          4\n        ],\n        \"semantic_type\": \"\",\n        \"description\": \"\"\n      }\n    },\n    {\n      \"column\": \"First purchase\",\n      \"properties\": {\n        \"dtype\": \"number\",\n        \"std\": 15,\n        \"min\": 2,\n        \"max\": 96,\n        \"num_unique_values\": 45,\n        \"samples\": [\n          58,\n          64\n        ],\n        \"semantic_type\": \"\",\n        \"description\": \"\"\n      }\n    },\n    {\n      \"column\": \"P_Child\",\n      \"properties\": {\n        \"dtype\": \"number\",\n        \"std\": 1,\n        \"min\": 0,\n        \"max\": 8,\n        \"num_unique_values\": 9,\n        \"samples\": [\n          8,\n          2\n        ],\n        \"semantic_type\": \"\",\n        \"description\": \"\"\n      }\n    },\n    {\n      \"column\": \"P_Youth\",\n      \"properties\": {\n        \"dtype\": \"number\",\n        \"std\": 0,\n        \"min\": 0,\n        \"max\": 5,\n        \"num_unique_values\": 6,\n        \"samples\": [\n          1,\n          2\n        ],\n        \"semantic_type\": \"\",\n        \"description\": \"\"\n      }\n    },\n    {\n      \"column\": \"P_Cook\",\n      \"properties\": {\n        \"dtype\": \"number\",\n        \"std\": 1,\n        \"min\": 0,\n        \"max\": 6,\n        \"num_unique_values\": 7,\n        \"samples\": [\n          0,\n          3\n        ],\n        \"semantic_type\": \"\",\n        \"description\": \"\"\n      }\n    },\n    {\n      \"column\": \"P_DIY\",\n      \"properties\": {\n        \"dtype\": \"number\",\n        \"std\": 0,\n        \"min\": 0,\n        \"max\": 4,\n        \"num_unique_values\": 5,\n        \"samples\": [\n          2,\n          3\n        ],\n        \"semantic_type\": \"\",\n        \"description\": \"\"\n      }\n    },\n    {\n      \"column\": \"P_Art\",\n      \"properties\": {\n        \"dtype\": \"number\",\n        \"std\": 0,\n        \"min\": 0,\n        \"max\": 5,\n        \"num_unique_values\": 6,\n        \"samples\": [\n          0,\n          3\n        ],\n        \"semantic_type\": \"\",\n        \"description\": \"\"\n      }\n    },\n    {\n      \"column\": \"Staus\",\n      \"properties\": {\n        \"dtype\": \"category\",\n        \"num_unique_values\": 2,\n        \"samples\": [\n          \"Test\",\n          \"Training\"\n        ],\n        \"semantic_type\": \"\",\n        \"description\": \"\"\n      }\n    },\n    {\n      \"column\": \"Choice\",\n      \"properties\": {\n        \"dtype\": \"category\",\n        \"num_unique_values\": 2,\n        \"samples\": [\n          \"N\",\n          \"Y\"\n        ],\n        \"semantic_type\": \"\",\n        \"description\": \"\"\n      }\n    }\n  ]\n}"
            }
          },
          "metadata": {},
          "execution_count": 12
        }
      ],
      "source": [
        "import pandas as pd\n",
        "import numpy as np\n",
        "df = pd.read_excel('https://hogut.weebly.com/uploads/1/8/1/6/18163409/bookbinder2.xls')\n",
        "df.head()"
      ]
    },
    {
      "cell_type": "code",
      "source": [
        "df['Choice'].unique()"
      ],
      "metadata": {
        "id": "HdiF2liDnJqo",
        "outputId": "c3f8d4bf-577c-44c0-b928-a1be0c5edffa",
        "colab": {
          "base_uri": "https://localhost:8080/"
        }
      },
      "execution_count": 2,
      "outputs": [
        {
          "output_type": "execute_result",
          "data": {
            "text/plain": [
              "array(['Y', 'N'], dtype=object)"
            ]
          },
          "metadata": {},
          "execution_count": 2
        }
      ]
    },
    {
      "cell_type": "code",
      "source": [
        "# Using dataframe df: convert choice to 0(N)and 1(Y)\n",
        "\n",
        "# Convert 'Choice' column to numerical values (0 for 'N', 1 for 'Y')\n",
        "df['Choice'] = df['Choice'].map({'N': 0, 'Y': 1})\n",
        " #Using dataframe df: Use choice variable as dependent variable.\n",
        " #Construct training data and test data  when the status variables having  Training and  Test value.\n",
        "\n",
        "import pandas as pd\n",
        "from sklearn.linear_model import LogisticRegression\n",
        "\n",
        "# Assuming 'df' is your DataFrame\n",
        "# Filter the DataFrame for training data\n",
        "training_data = df[df['Staus'] == 'Training']\n",
        "test_data = df[df['Staus'] == 'Test']\n",
        "# Define features (X) and target variable (y)\n",
        "X_train = training_data[['Gender', 'Amount purchased', 'Frequency', 'Last purchase', 'First purchase', 'P_Child', 'P_Youth', 'P_Cook', 'P_DIY', 'P_Art']]\n",
        "y_train = training_data['Choice']\n",
        "X_test = test_data[['Gender', 'Amount purchased', 'Frequency', 'Last purchase', 'First purchase', 'P_Child', 'P_Youth', 'P_Cook', 'P_DIY', 'P_Art']]\n",
        "y_test = test_data['Choice']\n"
      ],
      "metadata": {
        "id": "etSe_lbpMWH6"
      },
      "execution_count": 13,
      "outputs": []
    },
    {
      "cell_type": "code",
      "source": [
        "df['Choice'].unique()"
      ],
      "metadata": {
        "id": "Hqz8OfKguCWh",
        "outputId": "792a42ef-7ee5-47ef-a774-05c7d6c4fcc8",
        "colab": {
          "base_uri": "https://localhost:8080/"
        }
      },
      "execution_count": 4,
      "outputs": [
        {
          "output_type": "execute_result",
          "data": {
            "text/plain": [
              "array([1, 0])"
            ]
          },
          "metadata": {},
          "execution_count": 4
        }
      ]
    },
    {
      "cell_type": "code",
      "source": [
        "#Q1(25 pt)-Using logistic regression model in train data,\n",
        "#a)\tIn the model, test that the claim that the coefficients of independent variables are different than 0 at the 5% significance level.\n",
        "#b)\tWhich variables that is significantly different than 0 increase or decrease the probability of Choice=Yes?"
      ],
      "metadata": {
        "id": "9PhCDIbMLOje"
      },
      "execution_count": null,
      "outputs": []
    },
    {
      "cell_type": "code",
      "source": [
        "# a)\n",
        "\n",
        "import statsmodels.api as sm\n",
        "\n",
        "# Add a constant (intercept) to the model\n",
        "X_train_const = sm.add_constant(X_train)\n",
        "\n",
        "# Fit logistic regression using statsmodels\n",
        "logit_model = sm.Logit(y_train, X_train_const)\n",
        "result = logit_model.fit()\n",
        "\n",
        "print(result.summary())\n"
      ],
      "metadata": {
        "id": "gIopQylc86L7",
        "outputId": "38bcf0b8-c9d9-4b6e-9f6f-8c7789802a0a",
        "colab": {
          "base_uri": "https://localhost:8080/"
        }
      },
      "execution_count": 14,
      "outputs": [
        {
          "output_type": "stream",
          "name": "stdout",
          "text": [
            "Optimization terminated successfully.\n",
            "         Current function value: 0.435050\n",
            "         Iterations 6\n",
            "                           Logit Regression Results                           \n",
            "==============================================================================\n",
            "Dep. Variable:                 Choice   No. Observations:                 1600\n",
            "Model:                          Logit   Df Residuals:                     1589\n",
            "Method:                           MLE   Df Model:                           10\n",
            "Date:                Sun, 20 Apr 2025   Pseudo R-squ.:                  0.2264\n",
            "Time:                        08:21:17   Log-Likelihood:                -696.08\n",
            "converged:                       True   LL-Null:                       -899.74\n",
            "Covariance Type:            nonrobust   LLR p-value:                 2.612e-81\n",
            "====================================================================================\n",
            "                       coef    std err          z      P>|z|      [0.025      0.975]\n",
            "------------------------------------------------------------------------------------\n",
            "const               -0.3515      0.214     -1.640      0.101      -0.772       0.069\n",
            "Gender              -0.8632      0.137     -6.280      0.000      -1.133      -0.594\n",
            "Amount purchased     0.0019      0.001      2.354      0.019       0.000       0.003\n",
            "Frequency           -0.0755      0.017     -4.551      0.000      -0.108      -0.043\n",
            "Last purchase        0.6118      0.094      6.521      0.000       0.428       0.796\n",
            "First purchase      -0.0148      0.013     -1.154      0.248      -0.040       0.010\n",
            "P_Child             -0.8112      0.117     -6.951      0.000      -1.040      -0.583\n",
            "P_Youth             -0.6370      0.143     -4.443      0.000      -0.918      -0.356\n",
            "P_Cook              -0.9230      0.119     -7.725      0.000      -1.157      -0.689\n",
            "P_DIY               -0.9059      0.144     -6.304      0.000      -1.188      -0.624\n",
            "P_Art                0.6861      0.127      5.402      0.000       0.437       0.935\n",
            "====================================================================================\n"
          ]
        }
      ]
    },
    {
      "cell_type": "markdown",
      "source": [
        "b)\n",
        "\n",
        "Significant Variables (p < 0.05):\n",
        "The following variables have coefficients significantly different from zero and therefore impact the likelihood of purchase:\n",
        "\n",
        "Gender (−0.8632): Being male decreases the probability of purchasing the book.\n",
        "\n",
        "Amount purchased (+0.0019): Customers who have spent more money on BBBC books are more likely to purchase the book.\n",
        "\n",
        "Frequency (−0.0755): A higher number of purchases overall decreases the likelihood of purchasing this book.\n",
        "\n",
        "Last purchase (+0.6118): Customers who haven't purchased in a while are more likely to purchase the book.\n",
        "\n",
        "P_Child (−0.8112): Those who buy more children’s books are less likely to purchase this book.\n",
        "\n",
        "P_Youth (−0.6370): Purchasing youth books is associated with a lower likelihood of purchasing this book.\n",
        "\n",
        "P_Cook (−0.9230): More cookbook purchases are linked to a decreased probability of purchasing this book.\n",
        "\n",
        "P_DIY (−0.9059): Buyers of DIY books are less likely to purchase this book.\n",
        "\n",
        "P_Art (+0.6861): Purchasing art books significantly increases the probability of purchasing this book.\n",
        "\n",
        "\n",
        "Non-Significant Variable (p > 0.05):\n",
        "First purchase (−0.0148, p = 0.248): The number of months since the customer’s first purchase is not significantly associated with the probability of buying this book.\n",
        "\n",
        "Variables related to prior book preferences, such as P_Art, P_Cook, and P_DIY, strongly influence the likelihood of purchase. This suggests that customers interested in art books are more likely to buy The Art History of Florence, while those interested in other genres are less likely. Additionally, gender and previous spending patterns also play a significant role."
      ],
      "metadata": {
        "id": "rqNj9eDdB5Fu"
      }
    },
    {
      "cell_type": "code",
      "source": [
        "#Q2(15 pt)-Using knn model in train data(choose k based on CV),\n",
        "#get the performance metric on test data(accuracy,recall, precision confusion matrix). What is the k value chosen based on k?\n",
        "\n",
        "from sklearn.preprocessing import StandardScaler\n",
        "from sklearn.neighbors import KNeighborsClassifier\n",
        "from sklearn.model_selection import cross_val_score\n",
        "from sklearn.metrics import accuracy_score, recall_score, precision_score, confusion_matrix\n",
        "\n",
        "# Step 1: Feature scaling\n",
        "scaler = StandardScaler()\n",
        "X_train_scaled = scaler.fit_transform(X_train)\n",
        "X_test_scaled = scaler.transform(X_test)\n",
        "\n",
        "# Step 2: Cross-validation to choose best k\n",
        "import numpy as np\n",
        "\n",
        "k_range = range(1, 31)\n",
        "cv_scores = []\n",
        "\n",
        "for k in k_range:\n",
        "    knn = KNeighborsClassifier(n_neighbors=k)\n",
        "    scores = cross_val_score(knn, X_train_scaled, y_train, cv=5, scoring='accuracy')\n",
        "    cv_scores.append(scores.mean())\n",
        "\n",
        "# Find best k\n",
        "best_k = k_range[np.argmax(cv_scores)]\n",
        "print(f\"Best k based on CV: {best_k}\")\n",
        "\n",
        "# Step 3: Train KNN with best k\n",
        "knn = KNeighborsClassifier(n_neighbors=best_k)\n",
        "knn.fit(X_train_scaled, y_train)\n",
        "\n",
        "# Step 4: Evaluate on test data\n",
        "y_pred = knn.predict(X_test_scaled)\n",
        "\n",
        "acc = accuracy_score(y_test, y_pred)\n",
        "rec = recall_score(y_test, y_pred)\n",
        "prec = precision_score(y_test, y_pred)\n",
        "conf_matrix = confusion_matrix(y_test, y_pred)\n",
        "\n",
        "print(f\"Accuracy: {acc:.4f}\")\n",
        "print(f\"Recall: {rec:.4f}\")\n",
        "print(f\"Precision: {prec:.4f}\")\n",
        "print(\"Confusion Matrix:\")\n",
        "print(conf_matrix)\n",
        "\n"
      ],
      "metadata": {
        "id": "gfPBeKMeIcmd",
        "outputId": "3303b606-72f8-406c-9b5f-5dbb02a7089f",
        "colab": {
          "base_uri": "https://localhost:8080/"
        }
      },
      "execution_count": 15,
      "outputs": [
        {
          "output_type": "stream",
          "name": "stdout",
          "text": [
            "Best k based on CV: 23\n",
            "Accuracy: 0.8983\n",
            "Recall: 0.2549\n",
            "Precision: 0.3881\n",
            "Confusion Matrix:\n",
            "[[2014   82]\n",
            " [ 152   52]]\n"
          ]
        }
      ]
    },
    {
      "cell_type": "markdown",
      "source": [
        "Choice of K value:\n",
        "\n",
        "I tested values of k from 1 to 30 using 5-fold cross-validation on the training set. The value of k with the highest cross-validated accuracy was selected as the optimal number of neighbors. This helps in finding a k that generalizes well to new data and avoids overfitting or underfitting.\n"
      ],
      "metadata": {
        "id": "ARsLwEVbCtwa"
      }
    },
    {
      "cell_type": "code",
      "source": [
        "#Q3(35 pt)-Get the performance metric on test data (accuracy,recall, precision, confsuion matrix area under curve(auc)) using\n",
        "#Logistic regression,naive bayes, Multi layer perceptor(MLP) and SVM, ligtGBM and kNN with optimized parameter in Q2.\n",
        "#Report which methods performs best on these metrics?\n",
        "\n",
        "from sklearn.naive_bayes import GaussianNB\n",
        "from sklearn.neural_network import MLPClassifier\n",
        "from sklearn.svm import SVC\n",
        "from lightgbm import LGBMClassifier\n",
        "from sklearn.metrics import accuracy_score, precision_score, recall_score, confusion_matrix, roc_auc_score, roc_curve\n",
        "\n",
        "# Logistic Regression (already done, just reuse)\n",
        "log_model = LogisticRegression()\n",
        "log_model.fit(X_train_scaled, y_train)\n",
        "log_preds = log_model.predict(X_test_scaled)\n",
        "log_probs = log_model.predict_proba(X_test_scaled)[:, 1]\n",
        "\n",
        "# Naive Bayes\n",
        "nb_model = GaussianNB()\n",
        "nb_model.fit(X_train, y_train)  # Naive Bayes doesn't need scaling\n",
        "nb_preds = nb_model.predict(X_test)\n",
        "nb_probs = nb_model.predict_proba(X_test)[:, 1]\n",
        "\n",
        "# Multi-Layer Perceptron\n",
        "mlp = MLPClassifier(hidden_layer_sizes=(50,), max_iter=1000, random_state=42)\n",
        "mlp.fit(X_train_scaled, y_train)\n",
        "mlp_preds = mlp.predict(X_test_scaled)\n",
        "mlp_probs = mlp.predict_proba(X_test_scaled)[:, 1]\n",
        "\n",
        "# SVM\n",
        "svm = SVC(probability=True)\n",
        "svm.fit(X_train_scaled, y_train)\n",
        "svm_preds = svm.predict(X_test_scaled)\n",
        "svm_probs = svm.predict_proba(X_test_scaled)[:, 1]\n",
        "\n",
        "# LightGBM\n",
        "lgbm = LGBMClassifier()\n",
        "lgbm.fit(X_train, y_train)\n",
        "lgbm_preds = lgbm.predict(X_test)\n",
        "lgbm_probs = lgbm.predict_proba(X_test)[:, 1]\n",
        "\n",
        "# KNN (best_k from Q2)\n",
        "knn = KNeighborsClassifier(n_neighbors=best_k)\n",
        "knn.fit(X_train_scaled, y_train)\n",
        "knn_preds = knn.predict(X_test_scaled)\n",
        "knn_probs = knn.predict_proba(X_test_scaled)[:, 1]\n"
      ],
      "metadata": {
        "id": "pGvVbFbmIf9m",
        "outputId": "bdd85b33-d14a-462c-b318-ca4473c75fab",
        "colab": {
          "base_uri": "https://localhost:8080/"
        }
      },
      "execution_count": 16,
      "outputs": [
        {
          "output_type": "stream",
          "name": "stdout",
          "text": [
            "[LightGBM] [Warning] Found whitespace in feature_names, replace with underlines\n",
            "[LightGBM] [Info] Number of positive: 400, number of negative: 1200\n",
            "[LightGBM] [Info] Auto-choosing row-wise multi-threading, the overhead of testing was 0.000213 seconds.\n",
            "You can set `force_row_wise=true` to remove the overhead.\n",
            "And if memory is not enough, you can set `force_col_wise=true`.\n",
            "[LightGBM] [Info] Total Bins 361\n",
            "[LightGBM] [Info] Number of data points in the train set: 1600, number of used features: 10\n",
            "[LightGBM] [Info] [binary:BoostFromScore]: pavg=0.250000 -> initscore=-1.098612\n",
            "[LightGBM] [Info] Start training from score -1.098612\n"
          ]
        }
      ]
    },
    {
      "cell_type": "code",
      "source": [
        "def evaluate_model(name, y_true, y_pred, y_prob):\n",
        "    print(f\"\\n{name}\")\n",
        "    print(\"Accuracy :\", accuracy_score(y_true, y_pred))\n",
        "    print(\"Precision:\", precision_score(y_true, y_pred))\n",
        "    print(\"Recall   :\", recall_score(y_true, y_pred))\n",
        "    print(\"AUC      :\", roc_auc_score(y_true, y_prob))\n",
        "    print(\"Confusion Matrix:\\n\", confusion_matrix(y_true, y_pred))"
      ],
      "metadata": {
        "id": "4LT5p5LKSkeo"
      },
      "execution_count": 23,
      "outputs": []
    },
    {
      "cell_type": "code",
      "source": [
        "evaluate_model(\"Logistic Regression\", y_test, log_preds, log_probs)\n",
        "evaluate_model(\"Naive Bayes\", y_test, nb_preds, nb_probs)\n",
        "evaluate_model(\"MLP\", y_test, mlp_preds, mlp_probs)\n",
        "evaluate_model(\"SVM\", y_test, svm_preds, svm_probs)\n",
        "evaluate_model(\"LightGBM\", y_test, lgbm_preds, lgbm_probs)\n",
        "evaluate_model(\"KNN\", y_test, knn_preds, knn_probs)"
      ],
      "metadata": {
        "id": "G9Wq43zKSnCu",
        "outputId": "e07c8e84-7ab6-4f41-eb9a-570fcd15302e",
        "colab": {
          "base_uri": "https://localhost:8080/"
        }
      },
      "execution_count": 24,
      "outputs": [
        {
          "output_type": "stream",
          "name": "stdout",
          "text": [
            "\n",
            "Logistic Regression\n",
            "Accuracy : 0.8895652173913043\n",
            "Precision: 0.37745098039215685\n",
            "Recall   : 0.37745098039215685\n",
            "AUC      : 0.8006953019757522\n",
            "Confusion Matrix:\n",
            " [[1969  127]\n",
            " [ 127   77]]\n",
            "\n",
            "Naive Bayes\n",
            "Accuracy : 0.8482608695652174\n",
            "Precision: 0.23247232472324722\n",
            "Recall   : 0.3088235294117647\n",
            "AUC      : 0.744416301826074\n",
            "Confusion Matrix:\n",
            " [[1888  208]\n",
            " [ 141   63]]\n",
            "\n",
            "MLP\n",
            "Accuracy : 0.8686956521739131\n",
            "Precision: 0.304\n",
            "Recall   : 0.37254901960784315\n",
            "AUC      : 0.7797660810507409\n",
            "Confusion Matrix:\n",
            " [[1922  174]\n",
            " [ 128   76]]\n",
            "\n",
            "SVM\n",
            "Accuracy : 0.9026086956521739\n",
            "Precision: 0.4180327868852459\n",
            "Recall   : 0.25\n",
            "AUC      : 0.7792468848226313\n",
            "Confusion Matrix:\n",
            " [[2025   71]\n",
            " [ 153   51]]\n",
            "\n",
            "LightGBM\n",
            "Accuracy : 0.8573913043478261\n",
            "Precision: 0.2669172932330827\n",
            "Recall   : 0.3480392156862745\n",
            "AUC      : 0.7599185189342913\n",
            "Confusion Matrix:\n",
            " [[1901  195]\n",
            " [ 133   71]]\n",
            "\n",
            "KNN\n",
            "Accuracy : 0.8982608695652174\n",
            "Precision: 0.3880597014925373\n",
            "Recall   : 0.2549019607843137\n",
            "AUC      : 0.7789147863343812\n",
            "Confusion Matrix:\n",
            " [[2014   82]\n",
            " [ 152   52]]\n"
          ]
        }
      ]
    },
    {
      "cell_type": "markdown",
      "source": [
        "If the focus is on overall discrimination and identifying positives correctly (recall and AUC), Logistic Regression performs best. If the goal is maximizing correct classifications and precision, SVM is the top performer. KNN serves as a strong alternative, especially when simplicity or interpretability of neighborhood-based methods is preferred."
      ],
      "metadata": {
        "id": "0TLBpA6mS7DB"
      }
    },
    {
      "cell_type": "code",
      "source": [
        "#Q4(25 pt)-There is a need to evaluate the effectiveness of the current direct mail program and assess whether predictive modeling\n",
        "#can be leveraged to enhance targeting and increase response rates.\n",
        "# Assume that you make profit of 10 $ by selling a book and the cost of sending mail is 0.65 $.\n",
        "# Based on the logistic model, which customers should Bookbinders target on test data?\n",
        "#What is the expected profits if these customers are targeted?\n",
        "#Hint :\n",
        "#To evaluate the direct mail program, use an ROC curve to assess the logistic model’s ability to predict buyers.\n",
        "#The curve plots True Positive Rate vs. False Positive Rate, and a high AUC shows the model is effective.\n",
        "# To decide who to target, calculate profit for different probability thresholds:\n",
        "# Profit = (True Positives × $9.35) - (False Positives × $0.65).\n",
        "#True positive profit is $93.5 becuase revenue is $10 and there is a $0.65 cost of sending mail.\n",
        "#Bookbinders should target customers with probabilities above the threshold that maximizes profit,\n",
        "# improving targeting and response rates compared to the current program"
      ],
      "metadata": {
        "id": "gzvnw5m54pvm"
      },
      "execution_count": null,
      "outputs": []
    },
    {
      "cell_type": "code",
      "source": [
        "from sklearn.metrics import roc_auc_score, roc_curve\n",
        "import matplotlib.pyplot as plt\n",
        "\n",
        "# Predict probabilities using logistic model\n",
        "y_proba = log_model.predict_proba(X_test)[:, 1]\n",
        "\n",
        "# Calculate AUC\n",
        "auc = roc_auc_score(y_test, y_proba)\n",
        "print(\"AUC (Logistic Regression):\", auc)\n",
        "\n",
        "# Define cost and revenue\n",
        "revenue_per_sale = 10\n",
        "mail_cost = 0.65\n",
        "net_profit_per_true_positive = revenue_per_sale - mail_cost  # $9.35\n",
        "loss_per_false_positive = mail_cost  # $0.65\n",
        "\n",
        "# Try different thresholds and calculate profit for each\n",
        "thresholds = np.arange(0.01, 1.0, 0.01)\n",
        "profits = []\n",
        "\n",
        "for threshold in thresholds:\n",
        "    y_pred = (y_proba >= threshold).astype(int)\n",
        "\n",
        "    # Calculate TP and FP\n",
        "    TP = np.sum((y_pred == 1) & (y_test == 1))\n",
        "    FP = np.sum((y_pred == 1) & (y_test == 0))\n",
        "\n",
        "    # Calculate profit\n",
        "    profit = (TP * net_profit_per_true_positive) - (FP * loss_per_false_positive)\n",
        "    profits.append(profit)\n",
        "\n",
        "# Find threshold with max profit\n",
        "max_profit = max(profits)\n",
        "best_threshold = thresholds[np.argmax(profits)]\n",
        "\n",
        "print(f\"\\nBest threshold to target: {best_threshold:.2f}\")\n",
        "print(f\"Maximum expected profit: ${max_profit:.2f}\")\n",
        "\n",
        "# Plot profit vs threshold\n",
        "plt.figure(figsize=(10,5))\n",
        "plt.plot(thresholds, profits, label=\"Expected Profit\")\n",
        "plt.axvline(x=best_threshold, color='r', linestyle='--', label=f'Best threshold = {best_threshold:.2f}')\n",
        "plt.xlabel(\"Probability Threshold\")\n",
        "plt.ylabel(\"Expected Profit ($)\")\n",
        "plt.title(\"Threshold vs. Expected Profit\")\n",
        "plt.legend()\n",
        "plt.grid(True)\n",
        "plt.show()\n",
        "\n",
        "# Optional: ROC Curve\n",
        "fpr, tpr, _ = roc_curve(y_test, y_proba)\n",
        "plt.figure()\n",
        "plt.plot(fpr, tpr, label=f'ROC Curve (AUC = {auc:.2f})')\n",
        "plt.plot([0, 1], [0, 1], linestyle='--', color='gray')\n",
        "plt.xlabel(\"False Positive Rate\")\n",
        "plt.ylabel(\"True Positive Rate\")\n",
        "plt.title(\"ROC Curve – Logistic Regression\")\n",
        "plt.legend()\n",
        "plt.grid(True)\n",
        "plt.show()\n"
      ],
      "metadata": {
        "id": "g_JsuiTeTSdV",
        "outputId": "ca453ec1-e147-4d16-fb22-fa79fbbc7767",
        "colab": {
          "base_uri": "https://localhost:8080/",
          "height": 1000
        }
      },
      "execution_count": 25,
      "outputs": [
        {
          "output_type": "stream",
          "name": "stderr",
          "text": [
            "/usr/local/lib/python3.11/dist-packages/sklearn/utils/validation.py:2732: UserWarning: X has feature names, but LogisticRegression was fitted without feature names\n",
            "  warnings.warn(\n"
          ]
        },
        {
          "output_type": "stream",
          "name": "stdout",
          "text": [
            "AUC (Logistic Regression): 0.6176260103277952\n",
            "\n",
            "Best threshold to target: 0.99\n",
            "Maximum expected profit: $645.90\n"
          ]
        },
        {
          "output_type": "display_data",
          "data": {
            "text/plain": [
              "<Figure size 1000x500 with 1 Axes>"
            ],
            "image/png": "[encoded data removed]"
          },
          "metadata": {}
        },
        {
          "output_type": "display_data",
          "data": {
            "text/plain": [
              "<Figure size 640x480 with 1 Axes>"
            ],
            "image/png": "[encoded data removed]"
          },
          "metadata": {}
        }
      ]
    },
    {
      "cell_type": "markdown",
      "source": [
        "Which customers should Bookbinders target on test data?\n",
        "From the \"Threshold vs. Expected Profit\" plot, the optimal probability threshold for targeting is 0.99. This threshold maximizes the expected profit, as marked by the red dashed line on your plot. Therefore, Bookbinders should only target customers whose predicted probability of buying is greater than or equal to 0.99.\n",
        "\n",
        "What is the expected profit if these customers are targeted?\n",
        "From the plot: Expected profit ≈ 647 usd at the best threshold of 0.99. This means, if Bookbinders targets only those customers who are very likely to respond (probability ≥ 0.99), they will earn about 647 usd in profit from this campaign.\n",
        "\n",
        "Effectiveness of the Logistic Model (based on ROC curve):\n",
        "From the ROC Curve – Logistic Regression: AUC = 0.62\n",
        "This AUC score indicates that the model has limited discriminative ability — it is only slightly better than random guessing (which would be an AUC of 0.5). While it's not a strong model, it's still usable, especially when you're optimizing profit rather than pure classification accuracy.\n",
        "\n"
      ],
      "metadata": {
        "id": "Flwk9C82UXUa"
      }
    }
  ]
}