{
  "nbformat": 4,
  "nbformat_minor": 0,
  "metadata": {
    "colab": {
      "name": "Homework1.ipynb",
      "provenance": [],
      "include_colab_link": true
    },
    "kernelspec": {
      "name": "python3",
      "display_name": "Python 3"
    },
    "language_info": {
      "name": "python"
    }
  },
  "cells": [
    {
      "cell_type": "markdown",
      "metadata": {
        "id": "view-in-github",
        "colab_type": "text"
      },
      "source": [
        "<a href=\"https://colab.research.google.com/github/innosevda/Data-Science-CRN-20018/blob/main/Homework1.ipynb\" target=\"_parent\"><img src=\"https://colab.research.google.com/assets/colab-badge.svg\" alt=\"Open In Colab\"/></a>"
      ]
    },
    {
      "cell_type": "code",
      "execution_count": 1,
      "metadata": {
        "colab": {
          "base_uri": "https://localhost:8080/"
        },
        "id": "jrVeHsm1rpdT",
        "outputId": "4f3dfc4d-745c-4da8-f703-8165f35b9f25"
      },
      "outputs": [
        {
          "output_type": "stream",
          "name": "stdout",
          "text": [
            "What is your name? Sevda\n",
            "What is your age? 22\n",
            "Your name is Sevda. Your age is 22.\n"
          ]
        }
      ],
      "source": [
        "#Q1-Get your name and age as input and print it in the form like\n",
        "#Your name is Hulisi. Your age is 43\n",
        "name=input('What is your name? ')\n",
        "age=input('What is your age? ')\n",
        "print(\"Your name is \"+ name + \". Your age is \" + age + \".\")"
      ]
    },
    {
      "cell_type": "code",
      "source": [
        "#Q2-Write a if statement for a given two number is equal or not\n",
        "a=43\n",
        "b=54\n",
        "\n",
        "if a == b:\n",
        "  print(\"a and b are equal.\")\n",
        "else:\n",
        "  print(\"a and b are not equal.\")"
      ],
      "metadata": {
        "id": "7Sfg03_PuVWa",
        "colab": {
          "base_uri": "https://localhost:8080/"
        },
        "outputId": "e1bb4ea9-1610-4f8b-8af6-78384c48ef6e"
      },
      "execution_count": 2,
      "outputs": [
        {
          "output_type": "stream",
          "name": "stdout",
          "text": [
            "a and b are not equal.\n"
          ]
        }
      ]
    },
    {
      "cell_type": "code",
      "source": [
        "#Q3-Write a if statement for first number is greater (a), equal or less than second number.(b)\n",
        "a=43\n",
        "b=54\n",
        "\n",
        "if a > b:\n",
        "  print(\"a is greater than b.\")\n",
        "elif a == b:\n",
        "  print(\"a and b are equal.\")\n",
        "else:\n",
        "  print(\"a is less than b.\")"
      ],
      "metadata": {
        "id": "NtUibZ07u5gs",
        "colab": {
          "base_uri": "https://localhost:8080/"
        },
        "outputId": "19e575aa-2eda-4a62-d8fe-fd5925b4f28a"
      },
      "execution_count": 3,
      "outputs": [
        {
          "output_type": "stream",
          "name": "stdout",
          "text": [
            "a is less than b.\n"
          ]
        }
      ]
    },
    {
      "cell_type": "code",
      "source": [
        "#Q4- Using for loop, print 1,2,3,4,5\n",
        "for k in range(5):\n",
        "  print(k+1)"
      ],
      "metadata": {
        "id": "U1UMQv36wNHP",
        "colab": {
          "base_uri": "https://localhost:8080/"
        },
        "outputId": "e6a28bc0-11c8-4169-84cd-404377b64d1d"
      },
      "execution_count": 4,
      "outputs": [
        {
          "output_type": "stream",
          "name": "stdout",
          "text": [
            "1\n",
            "2\n",
            "3\n",
            "4\n",
            "5\n"
          ]
        }
      ]
    },
    {
      "cell_type": "code",
      "source": [
        "#Q5-Using while loop, print 5,4,3,2,1\n",
        "\n",
        "d = 5\n",
        "while d>0:\n",
        "  print(d)\n",
        "  d-=1"
      ],
      "metadata": {
        "id": "bh5Lga7XxGY8",
        "colab": {
          "base_uri": "https://localhost:8080/"
        },
        "outputId": "243f5d76-e2d1-417e-b7f5-9f4801a774b1"
      },
      "execution_count": 5,
      "outputs": [
        {
          "output_type": "stream",
          "name": "stdout",
          "text": [
            "5\n",
            "4\n",
            "3\n",
            "2\n",
            "1\n"
          ]
        }
      ]
    },
    {
      "cell_type": "code",
      "source": [
        "#Q6- Using for loop, print 10,6,4,2,0\n",
        "#Hint Print if number is not equal to 8.\n",
        "\n",
        "d = 10\n",
        "while d>=0:\n",
        "  if d != 8:\n",
        "    print(d)\n",
        "  d-=2"
      ],
      "metadata": {
        "id": "cXTTDS49xSoi",
        "colab": {
          "base_uri": "https://localhost:8080/"
        },
        "outputId": "a283bd6e-5a56-480a-a2f8-c3d4a2c0d213"
      },
      "execution_count": 6,
      "outputs": [
        {
          "output_type": "stream",
          "name": "stdout",
          "text": [
            "10\n",
            "6\n",
            "4\n",
            "2\n",
            "0\n"
          ]
        }
      ]
    },
    {
      "cell_type": "code",
      "source": [
        "#Q7-Write a method to calculate age for a given date of birth year.\n",
        "#Use this method on orer to calculate age of person if date of birth is 1944\n",
        "# if age is the name of function, print(age(1944))\n",
        "\n",
        "def age(x):\n",
        "  return 2025 - x\n",
        "\n",
        "print(age(1944))"
      ],
      "metadata": {
        "id": "geUjb-vuyYbF",
        "colab": {
          "base_uri": "https://localhost:8080/"
        },
        "outputId": "52b771ce-4a77-45f1-fe60-7dd5cba9a74a"
      },
      "execution_count": 7,
      "outputs": [
        {
          "output_type": "stream",
          "name": "stdout",
          "text": [
            "81\n"
          ]
        }
      ]
    },
    {
      "cell_type": "code",
      "source": [
        "#Q8-Write a class named arithmetic with method for calculating addition, substraction, multiplication and division of two numbers.\n",
        "class arithmetic:\n",
        "  def addition(x,y):\n",
        "    return x+y\n",
        "  def substraction(x,y):\n",
        "    return x-y\n",
        "  def multiplication(x,y):\n",
        "    return x*y\n",
        "  def division(x,y):\n",
        "    return x/y\n",
        "\n",
        "\n",
        "arithmetic.division(9,2)"
      ],
      "metadata": {
        "id": "YcyFzE3fzC7_",
        "outputId": "96cd53cd-8abc-4b42-a5af-84865159fc7a",
        "colab": {
          "base_uri": "https://localhost:8080/"
        }
      },
      "execution_count": 8,
      "outputs": [
        {
          "output_type": "execute_result",
          "data": {
            "text/plain": [
              "4.5"
            ]
          },
          "metadata": {},
          "execution_count": 8
        }
      ]
    },
    {
      "cell_type": "code",
      "source": [
        "#Q9- write a for loop or method  to calculate summation of first n numbers\n",
        "#i.e if n=3, it will print or return 6 (1+2+3)\n",
        "\n",
        "def f(n):\n",
        "  sum = 0\n",
        "  for i in range(n+1):\n",
        "    sum = sum + i\n",
        "  return sum\n",
        "\n",
        "print(f(4))\n"
      ],
      "metadata": {
        "id": "AUJWr5YqzadI",
        "colab": {
          "base_uri": "https://localhost:8080/"
        },
        "outputId": "d17ffeca-5648-42c7-a799-c48cee5d903d"
      },
      "execution_count": 9,
      "outputs": [
        {
          "output_type": "stream",
          "name": "stdout",
          "text": [
            "10\n"
          ]
        }
      ]
    },
    {
      "cell_type": "code",
      "source": [
        "#Q10-Generate 10 numbers between 0 and 1 and add into list. Print first three elements of that list.\n",
        "\n",
        "import random\n",
        "\n",
        "l = []\n",
        "\n",
        "for i in range(10):\n",
        "  l.append(random.randint(0,1))\n",
        "\n",
        "print(l[:3])"
      ],
      "metadata": {
        "id": "hmtvJdCL02qx",
        "colab": {
          "base_uri": "https://localhost:8080/"
        },
        "outputId": "fb603fc7-3a4f-489e-a442-e8470d7c2aad"
      },
      "execution_count": 10,
      "outputs": [
        {
          "output_type": "stream",
          "name": "stdout",
          "text": [
            "[0, 1, 1]\n"
          ]
        }
      ]
    },
    {
      "cell_type": "code",
      "source": [
        "#Q11-For a given number n, print numbers divisible by 3 up to that number(n included)\n",
        "#Example: if n=15, print 3,6,9,12,15\n",
        "#Hint you can use modulus statement (if (i%3==0))\n",
        "n=15\n",
        "\n",
        "for i in range(1, n+1):\n",
        "  if i%3==0:\n",
        "    print(i)\n"
      ],
      "metadata": {
        "id": "5O6Y2CujcAAs",
        "outputId": "26f6d393-21ce-4efb-9f0a-811765cbc214",
        "colab": {
          "base_uri": "https://localhost:8080/"
        }
      },
      "execution_count": 11,
      "outputs": [
        {
          "output_type": "stream",
          "name": "stdout",
          "text": [
            "3\n",
            "6\n",
            "9\n",
            "12\n",
            "15\n"
          ]
        }
      ]
    }
  ]
}